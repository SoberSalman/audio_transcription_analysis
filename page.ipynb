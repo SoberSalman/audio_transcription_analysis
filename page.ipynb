{
 "cells": [
  {
   "cell_type": "code",
   "execution_count": 1,
   "metadata": {},
   "outputs": [],
   "source": [
    "import streamlit as st\n",
    "import pandas as pd\n"
   ]
  },
  {
   "cell_type": "code",
   "execution_count": 4,
   "metadata": {},
   "outputs": [],
   "source": [
    "def load_data():\n",
    "    data = pd.read_csv(\"Finetuning vs Not_Finetuning Results.csv\")\n",
    "    return data"
   ]
  },
  {
   "cell_type": "code",
   "execution_count": 5,
   "metadata": {},
   "outputs": [],
   "source": [
    "data = load_data()"
   ]
  },
  {
   "cell_type": "code",
   "execution_count": 6,
   "metadata": {},
   "outputs": [
    {
     "data": {
      "text/plain": [
       "0    I would like to try three sopes corn arwoes, r...\n",
       "1    I will take a turkey sandwich on a toasted bag...\n",
       "2    I would love to start off with the anti-pasteo...\n",
       "3    Could I get a Coca-Cola zero in a 12-ounce can...\n",
       "4    I would like to order a buffalo chicken sandwi...\n",
       "Name: Before_Finetuning_transcription, dtype: object"
      ]
     },
     "execution_count": 6,
     "metadata": {},
     "output_type": "execute_result"
    }
   ],
   "source": [
    "data['Before_Finetuning_transcription'].head()"
   ]
  },
  {
   "cell_type": "code",
   "execution_count": 9,
   "metadata": {},
   "outputs": [
    {
     "name": "stdout",
     "output_type": "stream",
     "text": [
      "iwouldliketotrythreesopesconarrozyfrijolespleasecouldyouaddthepastorasamodifierformethankyou.\n",
      "\n"
     ]
    }
   ],
   "source": [
    "import re\n",
    "\n",
    "def preprocess_text(text):\n",
    "    # Convert text to lowercase\n",
    "    text = text.lower()\n",
    "    # Remove punctuation from start and end of each word\n",
    "    text = re.sub(r'\\b[\\W_]+\\b', '', text)\n",
    "    # Remove punctuation between words\n",
    "    text = re.sub(r'\\B[\\W_]+\\B', ' ', text)\n",
    "    # Split into words\n",
    "    words = text.split()\n",
    "    return words\n",
    "\n",
    "# Example usage\n",
    "original = \"I would like to try three Sopes Con Arroz Y Frijoles, please. Could you add the Pastor as a modifier for me? Thank you.\"\n",
    "transcription = \"I would like to try three sopes corn arwoes, re jollies, please. Could you add the pastor as a modifier for me? Thank you.\"\n",
    "\n",
    "original_words = preprocess_text(original)\n",
    "transcription_words = preprocess_text(transcription)\n",
    "\n",
    "for word in original_words:\n",
    "    print(word)\n",
    "    print()"
   ]
  },
  {
   "cell_type": "code",
   "execution_count": null,
   "metadata": {},
   "outputs": [],
   "source": []
  }
 ],
 "metadata": {
  "kernelspec": {
   "display_name": "Python 3",
   "language": "python",
   "name": "python3"
  },
  "language_info": {
   "codemirror_mode": {
    "name": "ipython",
    "version": 3
   },
   "file_extension": ".py",
   "mimetype": "text/x-python",
   "name": "python",
   "nbconvert_exporter": "python",
   "pygments_lexer": "ipython3",
   "version": "3.11.4"
  }
 },
 "nbformat": 4,
 "nbformat_minor": 2
}
